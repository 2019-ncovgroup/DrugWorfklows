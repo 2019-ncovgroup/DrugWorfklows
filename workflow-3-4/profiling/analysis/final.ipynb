{
 "cells": [
  {
   "cell_type": "code",
   "execution_count": 1,
   "metadata": {
    "ExecuteTime": {
     "end_time": "2020-07-31T01:43:53.887064Z",
     "start_time": "2020-07-31T01:43:53.148058Z"
    }
   },
   "outputs": [
    {
     "data": {
      "text/html": [
       "<style>.container { width:100% !important; }</style>"
      ],
      "text/plain": [
       "<IPython.core.display.HTML object>"
      ]
     },
     "metadata": {},
     "output_type": "display_data"
    }
   ],
   "source": [
    "%matplotlib inline\n",
    "%run 'bin/notebook_utils.py'\n",
    "%run 'bin/plot_utilization.py'\n",
    "import matplotlib.ticker as mticker\n",
    "import radical.entk as re"
   ]
  },
  {
   "cell_type": "code",
   "execution_count": 2,
   "metadata": {
    "ExecuteTime": {
     "end_time": "2020-07-31T01:43:54.443054Z",
     "start_time": "2020-07-31T01:43:53.889558Z"
    }
   },
   "outputs": [
    {
     "name": "stdout",
     "output_type": "stream",
     "text": [
      "\r\n",
      "  python               : 3.7.6\r\n",
      "  pythonpath           : \r\n",
      "  virtualenv           : base\r\n",
      "\r\n",
      "  radical.analytics    : 1.5.0\r\n",
      "  radical.entk         : 1.5.0\r\n",
      "  radical.gtod         : 1.5.0\r\n",
      "  radical.pilot        : 1.5.2\r\n",
      "  radical.saga         : 1.5.2\r\n",
      "  radical.utils        : 1.5.3\r\n",
      "\r\n"
     ]
    }
   ],
   "source": [
    "! radical-stack"
   ]
  },
  {
   "cell_type": "code",
   "execution_count": 3,
   "metadata": {
    "ExecuteTime": {
     "end_time": "2020-07-31T01:43:54.449327Z",
     "start_time": "2020-07-31T01:43:54.446155Z"
    }
   },
   "outputs": [],
   "source": [
    "suds = ['re.session.login3.litan.018501.0043']\n",
    "sdir = '../data/raw/'\n",
    "sids = [sdir+s for s in suds]"
   ]
  },
  {
   "cell_type": "code",
   "execution_count": 4,
   "metadata": {
    "ExecuteTime": {
     "end_time": "2020-07-31T01:43:56.477615Z",
     "start_time": "2020-07-31T01:43:54.451938Z"
    }
   },
   "outputs": [],
   "source": [
    "%%capture capt\n",
    "\n",
    "ss = {}\n",
    "for sid in suds:\n",
    "    sp = sdir+sid\n",
    "    ss[sid] = {'s': ra.Session(sp, 'radical.pilot')}\n",
    "    ss[sid].update({'p': ss[sid]['s'].filter(etype='pilot'   , inplace=False),\n",
    "                    'u': ss[sid]['s'].filter(etype='unit'    , inplace=False),\n",
    "                    't': ss[sid]['s'].filter(etype='task'    , inplace=False),\n",
    "                    'w': ss[sid]['s'].filter(etype='pipeline', inplace=False)})"
   ]
  },
  {
   "cell_type": "code",
   "execution_count": 5,
   "metadata": {},
   "outputs": [
    {
     "data": {
      "text/plain": [
       "[]"
      ]
     },
     "execution_count": 5,
     "metadata": {},
     "output_type": "execute_result"
    }
   ],
   "source": [
    "tsession = ra.Session('../data/raw/re.session.login3.litan.018501.0043', 'radical.pilot')\n",
    "test = tsession.filter(etype='unit', state='FAILED')\n",
    "test.get(etype='unit')"
   ]
  },
  {
   "cell_type": "code",
   "execution_count": 6,
   "metadata": {
    "ExecuteTime": {
     "end_time": "2020-07-31T01:43:56.490346Z",
     "start_time": "2020-07-31T01:43:56.479490Z"
    }
   },
   "outputs": [],
   "source": [
    "for sid in suds:\n",
    "    ss[sid].update({'sid'   : ss[sid]['s'].uid,\n",
    "                    'pid'   : ss[sid]['p'].list('uid'),\n",
    "                    'npilot': len(ss[sid]['p'].get()),\n",
    "                    'lm'    : ss[sid]['s'].get(etype='pilot')[0].cfg['agent_launch_method'],\n",
    "                    'npact' : len(ss[sid]['p'].timestamps(state='PMGR_ACTIVE')),\n",
    "                    'nunit' : len(ss[sid]['u'].get()),\n",
    "                    'nudone': len(ss[sid]['u'].timestamps(state='DONE')),\n",
    "                    'nufail': len(ss[sid]['u'].timestamps(state='FAILED'))})\n",
    "    ss[sid].update({'pres'  : ss[sid]['p'].get(uid=ss[sid]['pid'])[0].description['resource'],\n",
    "                    'ncores': ss[sid]['p'].get(uid=ss[sid]['pid'])[0].description['cores'],\n",
    "                    'ngpus' : ss[sid]['p'].get(uid=ss[sid]['pid'])[0].description['gpus']})                  \n",
    "    ss[sid].update({'nnodes': ss[sid]['ngpus']/6})"
   ]
  },
  {
   "cell_type": "code",
   "execution_count": 7,
   "metadata": {
    "ExecuteTime": {
     "end_time": "2020-07-31T01:43:56.512584Z",
     "start_time": "2020-07-31T01:43:56.492077Z"
    }
   },
   "outputs": [
    {
     "data": {
      "text/html": [
       "<div>\n",
       "<style scoped>\n",
       "    .dataframe tbody tr th:only-of-type {\n",
       "        vertical-align: middle;\n",
       "    }\n",
       "\n",
       "    .dataframe tbody tr th {\n",
       "        vertical-align: top;\n",
       "    }\n",
       "\n",
       "    .dataframe thead th {\n",
       "        text-align: right;\n",
       "    }\n",
       "</style>\n",
       "<table border=\"1\" class=\"dataframe\">\n",
       "  <thead>\n",
       "    <tr style=\"text-align: right;\">\n",
       "      <th></th>\n",
       "      <th>session</th>\n",
       "      <th>resource</th>\n",
       "      <th>pilot_lm</th>\n",
       "      <th>pilots</th>\n",
       "      <th>ps_active</th>\n",
       "      <th>cores</th>\n",
       "      <th>gpus</th>\n",
       "      <th>nodes</th>\n",
       "      <th>tasks</th>\n",
       "      <th>ts_done</th>\n",
       "      <th>ts_failed</th>\n",
       "    </tr>\n",
       "  </thead>\n",
       "  <tbody>\n",
       "    <tr>\n",
       "      <th>0</th>\n",
       "      <td>re.session.login3.litan.018501.0043</td>\n",
       "      <td>ornl.summit</td>\n",
       "      <td>JSRUN</td>\n",
       "      <td>1</td>\n",
       "      <td>1</td>\n",
       "      <td>2730.0</td>\n",
       "      <td>390</td>\n",
       "      <td>65.0</td>\n",
       "      <td>368</td>\n",
       "      <td>368</td>\n",
       "      <td>0</td>\n",
       "    </tr>\n",
       "  </tbody>\n",
       "</table>\n",
       "</div>"
      ],
      "text/plain": [
       "                               session     resource pilot_lm  pilots  ps_active   cores  gpus  nodes  tasks  ts_done  ts_failed\n",
       "0  re.session.login3.litan.018501.0043  ornl.summit    JSRUN       1          1  2730.0   390   65.0    368      368          0"
      ]
     },
     "execution_count": 7,
     "metadata": {},
     "output_type": "execute_result"
    }
   ],
   "source": [
    "info = []\n",
    "for sid in suds:\n",
    "    info.append({'session'  : sid,\n",
    "                 'resource' : ss[sid]['pres'],\n",
    "                 'pilot_lm' : ss[sid]['lm'], \n",
    "                 'pilots'   : ss[sid]['npilot'],\n",
    "                 'ps_active': ss[sid]['npact'],\n",
    "                 'cores'    : ss[sid]['ncores']/4, \n",
    "                 'gpus'     : ss[sid]['ngpus'], \n",
    "                 'nodes'    : ss[sid]['nnodes'], \n",
    "                 'tasks'    : ss[sid]['nunit'], \n",
    "                 'ts_done'  : ss[sid]['nudone'],  \n",
    "                 'ts_failed': ss[sid]['nufail']})\n",
    "\n",
    "df_info = pd.DataFrame(info) \n",
    "df_info"
   ]
  },
  {
   "cell_type": "code",
   "execution_count": 8,
   "metadata": {
    "ExecuteTime": {
     "end_time": "2020-07-31T01:43:56.584233Z",
     "start_time": "2020-07-31T01:43:56.514384Z"
    }
   },
   "outputs": [
    {
     "ename": "ValueError",
     "evalue": "no duration defined for given constraints (None) ([{1: 'state', 5: 'NEW'}, [{1: 'state', 5: 'EXECUTED'}, {1: 'state', 5: 'CANCELED'}, {1: 'state', 5: 'FAILED'}]]) (None) ([])",
     "output_type": "error",
     "traceback": [
      "\u001b[0;31m---------------------------------------------------------------------------\u001b[0m",
      "\u001b[0;31mValueError\u001b[0m                                Traceback (most recent call last)",
      "\u001b[0;32m<ipython-input-8-84db0cc96860>\u001b[0m in \u001b[0;36m<module>\u001b[0;34m\u001b[0m\n\u001b[1;32m     10\u001b[0m                                   [{ru.EVENT: 'state'        , ru.STATE: re.states.COMPLETED   },\n\u001b[1;32m     11\u001b[0m                                    \u001b[0;34m{\u001b[0m\u001b[0mru\u001b[0m\u001b[0;34m.\u001b[0m\u001b[0mEVENT\u001b[0m\u001b[0;34m:\u001b[0m \u001b[0;34m'state'\u001b[0m        \u001b[0;34m,\u001b[0m \u001b[0mru\u001b[0m\u001b[0;34m.\u001b[0m\u001b[0mSTATE\u001b[0m\u001b[0;34m:\u001b[0m \u001b[0mre\u001b[0m\u001b[0;34m.\u001b[0m\u001b[0mstates\u001b[0m\u001b[0;34m.\u001b[0m\u001b[0mCANCELED\u001b[0m    \u001b[0;34m}\u001b[0m\u001b[0;34m,\u001b[0m\u001b[0;34m\u001b[0m\u001b[0;34m\u001b[0m\u001b[0m\n\u001b[0;32m---> 12\u001b[0;31m                                    {ru.EVENT: 'state'        , ru.STATE: re.states.FAILED      }]]),\n\u001b[0m\u001b[1;32m     13\u001b[0m       'ttq_p': p0.duration(event=[ {ru.EVENT: 'state'        , ru.STATE: rp.PMGR_ACTIVE_PENDING}, \n\u001b[1;32m     14\u001b[0m                                    {ru.EVENT: 'state'        , ru.STATE: rp.PMGR_ACTIVE        } ]),\n",
      "\u001b[0;32m~/miniconda3/lib/python3.7/site-packages/radical/analytics/entity.py\u001b[0m in \u001b[0;36mduration\u001b[0;34m(self, state, event, time, ranges)\u001b[0m\n\u001b[1;32m    269\u001b[0m         \u001b[0;32mif\u001b[0m \u001b[0;32mnot\u001b[0m \u001b[0mranges\u001b[0m\u001b[0;34m:\u001b[0m\u001b[0;34m\u001b[0m\u001b[0;34m\u001b[0m\u001b[0m\n\u001b[1;32m    270\u001b[0m             raise ValueError('no duration defined for given constraints '\n\u001b[0;32m--> 271\u001b[0;31m                   '(%s) (%s) (%s) (%s)' % (state, event, time, ranges))\n\u001b[0m\u001b[1;32m    272\u001b[0m \u001b[0;34m\u001b[0m\u001b[0m\n\u001b[1;32m    273\u001b[0m         \u001b[0;32mreturn\u001b[0m \u001b[0msum\u001b[0m\u001b[0;34m(\u001b[0m\u001b[0mr\u001b[0m\u001b[0;34m[\u001b[0m\u001b[0;36m1\u001b[0m\u001b[0;34m]\u001b[0m \u001b[0;34m-\u001b[0m \u001b[0mr\u001b[0m\u001b[0;34m[\u001b[0m\u001b[0;36m0\u001b[0m\u001b[0;34m]\u001b[0m \u001b[0;32mfor\u001b[0m \u001b[0mr\u001b[0m \u001b[0;32min\u001b[0m \u001b[0mranges\u001b[0m\u001b[0;34m)\u001b[0m\u001b[0;34m\u001b[0m\u001b[0;34m\u001b[0m\u001b[0m\n",
      "\u001b[0;31mValueError\u001b[0m: no duration defined for given constraints (None) ([{1: 'state', 5: 'NEW'}, [{1: 'state', 5: 'EXECUTED'}, {1: 'state', 5: 'CANCELED'}, {1: 'state', 5: 'FAILED'}]]) (None) ([])"
     ]
    }
   ],
   "source": [
    "for sid in suds:\n",
    "    w  = ss[sid]['w']\n",
    "    u  = ss[sid]['u']\n",
    "    t  = ss[sid]['t']\n",
    "    p  = ss[sid]['p']\n",
    "    p0 = p.get(uid=ss[sid]['pid'])[0]\n",
    "\n",
    "    ss[sid].update({\n",
    "      'ttc'  : p0.duration(event=[ {ru.EVENT: 'state'        , ru.STATE: rp.NEW                }, \n",
    "                                  [{ru.EVENT: 'state'        , ru.STATE: re.states.COMPLETED   },\n",
    "                                   {ru.EVENT: 'state'        , ru.STATE: re.states.CANCELED    },\n",
    "                                   {ru.EVENT: 'state'        , ru.STATE: re.states.FAILED      }]]),\n",
    "      'ttq_p': p0.duration(event=[ {ru.EVENT: 'state'        , ru.STATE: rp.PMGR_ACTIVE_PENDING}, \n",
    "                                   {ru.EVENT: 'state'        , ru.STATE: rp.PMGR_ACTIVE        } ]),\n",
    "      'ttx_w': w.duration( event=[ {ru.EVENT: 'state'        , ru.STATE: re.states.SCHEDULING  },\n",
    "                                   {ru.EVENT: 'state'        , ru.STATE: re.states.DONE        } ]),\n",
    "      'ttx_p': p0.duration(event=[ {ru.EVENT: 'state'        , ru.STATE: rp.PMGR_ACTIVE        },\n",
    "                                  [{ru.EVENT: 'state'        , ru.STATE: rp.DONE               },\n",
    "                                   {ru.EVENT: 'state'        , ru.STATE: rp.FAILED             },\n",
    "                                   {ru.EVENT: 'state'        , ru.STATE: rp.CANCELED           }]]),\n",
    "      'sub_t': t.duration( event=[ {ru.EVENT: 'state'        , ru.STATE: re.states.SCHEDULING  },\n",
    "                                   {ru.EVENT: 'state'        , ru.STATE: re.states.SUBMITTING  } ]),\n",
    "      'ttx_t': t.duration( event=[ {ru.EVENT: 'state'        , ru.STATE: re.states.SUBMITTING  },\n",
    "                                  [{ru.EVENT: 'state'        , ru.STATE: re.states.COMPLETED   },\n",
    "                                   {ru.EVENT: 'state'        , ru.STATE: re.states.CANCELED    },\n",
    "                                   {ru.EVENT: 'state'        , ru.STATE: re.states.FAILED      }]]),\n",
    "      'ttx_u': u.duration( event=[ {ru.EVENT: 'cu_exec_start', ru.STATE: None                  },      \n",
    "                                   {ru.EVENT: 'cu_exec_stop' , ru.STATE: None                  } ]),\n",
    "      'pilot_lifetime': p.duration(event=[{ru.EVENT: 'bootstrap_0_start', ru.STATE: None},\n",
    "                                          {ru.EVENT: 'bootstrap_0_stop', ru.STATE: None}])})\n",
    "    \n",
    "    ss[sid].update({'ovh_rtc': ss[sid]['ttx_w'] - ss[sid]['ttx_u']})"
   ]
  },
  {
   "cell_type": "code",
   "execution_count": null,
   "metadata": {
    "ExecuteTime": {
     "end_time": "2020-07-31T01:43:58.800455Z",
     "start_time": "2020-07-31T01:43:56.588356Z"
    }
   },
   "outputs": [],
   "source": [
    "fwidth = 6*len(suds)\n",
    "fhight = 6\n",
    "fig, axarr = plt.subplots(1, len(suds), sharey=True, figsize=(fwidth, fhight))\n",
    "\n",
    "i = 0\n",
    "j = 'a'\n",
    "for sid in suds:\n",
    "    if len(suds) > 1:\n",
    "        ax = axarr[i]\n",
    "    else:\n",
    "        ax = axarr\n",
    "    \n",
    "    if sid == 're.session.login3.litan.018501.0043':\n",
    "        ax.title.set_text('%s/%s Tasks/Nodes (com, ppn=41)' % (ss[sid]['nunit'], int(ss[sid]['nnodes'])))\n",
    "\n",
    "    ax.bar(x = 'OVH', height = ss[sid]['ovh_rtc'], color = tableau20[1])\n",
    "    ax.bar(x = 'TTX', height = ss[sid]['ttx_u']  , color = tableau20[3])\n",
    "\n",
    "    ax.set_xlabel('(%s)' % j, labelpad=45)\n",
    "\n",
    "    i = i+1\n",
    "    j = chr(ord(j) + 1)\n",
    "\n",
    "fig.text(-0.1,  0.5 , 'Time (s)', va='center', rotation='vertical', fontsize=24)\n",
    "fig.text( 0.5, -0.05, 'Metric'  , ha='center', fontsize=24)\n",
    "fig.legend(['RADICAL Cybertools overhead (OVH)', 'Workflow time to completion (TTX)'], loc='upper center', \n",
    "           bbox_to_anchor=(0.52, 1.35), fontsize=24, ncol=1)\n",
    "    \n",
    "plt.savefig('figures/incite2020_ovh_ttx.pdf', dpi=300, bbox_inches='tight')\n",
    "plt.savefig('figures/incite2020_ovh_ttx.png', dpi=300, bbox_inches='tight')"
   ]
  },
  {
   "cell_type": "code",
   "execution_count": null,
   "metadata": {
    "ExecuteTime": {
     "end_time": "2020-07-31T01:43:59.350621Z",
     "start_time": "2020-07-31T01:43:58.803495Z"
    }
   },
   "outputs": [],
   "source": [
    "%%capture capt\n",
    "\n",
    "u_durations = {}\n",
    "\n",
    "for sid in suds:\n",
    "    u_durations[sid] = {}\n",
    "\n",
    "for sid in suds:\n",
    "    for uid in ss[sid]['u'].list('uid'):\n",
    "        unit = ss[sid]['u'].get(etype='unit', uid=uid)[0]\n",
    "        durations = {}\n",
    "        for k,v in rp.utils.UNIT_DURATIONS_DEBUG['consume'].items():\n",
    "            try:\n",
    "                durations[k] = unit.duration(event=v)\n",
    "            except:\n",
    "                print(\"WARNING: %s: %s: event %s missing\" % (sid, uid, v))\n",
    "                durations[k] = 0\n",
    "        u_durations[sid].update({uid: durations})"
   ]
  },
  {
   "cell_type": "code",
   "execution_count": null,
   "metadata": {
    "ExecuteTime": {
     "end_time": "2020-07-31T01:43:59.366989Z",
     "start_time": "2020-07-31T01:43:59.352571Z"
    }
   },
   "outputs": [],
   "source": [
    "u_durations_df = {}\n",
    "for sid,durations in u_durations.items():\n",
    "    u_durations_df[sid] = pd.DataFrame.from_dict(durations, orient='index')"
   ]
  },
  {
   "cell_type": "code",
   "execution_count": null,
   "metadata": {
    "ExecuteTime": {
     "end_time": "2020-07-31T01:44:03.593516Z",
     "start_time": "2020-07-31T01:43:59.369280Z"
    }
   },
   "outputs": [],
   "source": [
    "nsessions = len(suds)\n",
    "\n",
    "fwidth = 8*nsessions\n",
    "fhight = 14\n",
    "\n",
    "fig, axarr = plt.subplots(nrows=1, ncols=nsessions, figsize=(fwidth, fhight), sharey=True)\n",
    "\n",
    "i = 0\n",
    "j = 'a'\n",
    "for sid in suds:\n",
    "\n",
    "    if nsessions > 1:\n",
    "        ax = axarr[i]\n",
    "    else:\n",
    "        ax = axarr\n",
    "\n",
    "    labels = []\n",
    "    muted = [] # 'u_agent_schedule', 'u_agent_cu_execute'\n",
    "\n",
    "    if set(muted).issubset(u_durations_df[sid].columns):\n",
    "        durations = u_durations_df[sid].drop(muted, axis=1)\n",
    "    else:\n",
    "        durations = u_durations_df[sid]\n",
    "\n",
    "    for label in durations.columns:\n",
    "        labels.append(label.replace(\"_\", \" \").title().replace(\"U \", \"\").replace(\"Cu\", \"CU\"))\n",
    "    labels = list(reversed(labels))\n",
    "\n",
    "    boxes = []\n",
    "    for duration in list(reversed(durations.columns)):\n",
    "        boxes.append(durations[duration].values)\n",
    "        \n",
    "    ax.title.set_text('%s/%s Tasks/Nodes' % (ss[sid]['nunit'], int(ss[sid]['nnodes'])))\n",
    "\n",
    "    ax.boxplot(boxes, patch_artist=True, labels=labels, vert=False),\n",
    "\n",
    "    ax.xaxis.grid(True, linestyle='-', which='major', color='lightgrey', alpha=0.5)\n",
    "    ax.set_axisbelow(True)\n",
    "    \n",
    "    i = i+1\n",
    "    j = chr(ord(j) + 1)\n",
    "\n",
    "fig.text( 0.5 , 0.05, 'Time (s)', ha='center', fontsize=24)\n",
    "\n",
    "plt.savefig('figures/incite2020_distribution_unit_durations.pdf', dpi=300, bbox_inches='tight')\n",
    "plt.savefig('figures/incite2020_distribution_unit_durations.png', dpi=300, bbox_inches='tight')"
   ]
  },
  {
   "cell_type": "code",
   "execution_count": null,
   "metadata": {
    "ExecuteTime": {
     "end_time": "2020-07-31T01:44:03.601627Z",
     "start_time": "2020-07-31T01:44:03.594914Z"
    }
   },
   "outputs": [],
   "source": [
    "p_durations = {}\n",
    "\n",
    "for sid in suds:\n",
    "    p_durations[sid] = {}\n",
    "\n",
    "for sid in suds:\n",
    "    for pid in ss[sid]['p'].list('uid'):\n",
    "        pilot = ss[sid]['p'].get(etype='pilot', uid=pid)[0]\n",
    "        durations = {}\n",
    "        for k,v in rp.utils.PILOT_DURATIONS_DEBUG['consume'].items():\n",
    "            try:\n",
    "                durations[k] = pilot.duration(event=v)\n",
    "            except:\n",
    "                print(\"WARNING: %s: %s: event %s missing\" % (sid, pid, v))\n",
    "                durations[k] = 0\n",
    "        p_durations[sid].update({pid: durations})"
   ]
  },
  {
   "cell_type": "code",
   "execution_count": null,
   "metadata": {
    "ExecuteTime": {
     "end_time": "2020-07-31T01:44:03.610860Z",
     "start_time": "2020-07-31T01:44:03.604190Z"
    }
   },
   "outputs": [],
   "source": [
    "p_durations_df = {}\n",
    "for sid,durations in p_durations.items():\n",
    "    p_durations_df[sid] = pd.DataFrame.from_dict(durations, orient='index')"
   ]
  },
  {
   "cell_type": "code",
   "execution_count": null,
   "metadata": {
    "ExecuteTime": {
     "end_time": "2020-07-31T01:44:05.157600Z",
     "start_time": "2020-07-31T01:44:03.613165Z"
    }
   },
   "outputs": [],
   "source": [
    "nsessions = len(suds)\n",
    "\n",
    "fwidth = 8*nsessions\n",
    "fhight = 6\n",
    "\n",
    "fig, axarr = plt.subplots(nrows=1, ncols=nsessions, figsize=(fwidth, fhight), sharex=True, sharey=True)\n",
    "\n",
    "i = 0\n",
    "j = 'a'\n",
    "for sid in suds:\n",
    "\n",
    "    if nsessions > 1:\n",
    "        ax = axarr[i]\n",
    "    else:\n",
    "        ax = axarr\n",
    "\n",
    "    labels = []\n",
    "    muted = ['p_pmngr_scheduling', 'p_agent_runtime'] # p_pmngr_scheduling, 'p_agent_runtime'\n",
    "    muted += [key for key in rp.utils.PILOT_DURATIONS_DEBUG['consume'].keys() if 'init' in key.lower()]\n",
    "\n",
    "    if set(muted).issubset(p_durations_df[sid].columns):\n",
    "        durations = p_durations_df[sid].drop(muted, axis=1)\n",
    "    else:\n",
    "        durations = p_durations_df[sid]\n",
    "\n",
    "    for label in durations.columns:\n",
    "        labels.append(label.replace(\"_\", \" \").title().replace(\"P \", \"\"))\n",
    "    labels = list(reversed(labels))\n",
    "\n",
    "    boxes = []\n",
    "    for duration in list(reversed(durations.columns)):\n",
    "        boxes.append(durations[duration].values[0])\n",
    "        \n",
    "    ax.title.set_text('%s/%s Tasks/Nodes' % (ss[sid]['nunit'], int(ss[sid]['nnodes'])))\n",
    "\n",
    "    ax.barh(labels, boxes),\n",
    "\n",
    "    ax.xaxis.grid(True, linestyle='-', which='major', color='lightgrey', alpha=0.5)\n",
    "    ax.set_axisbelow(True)\n",
    "    \n",
    "    i = i+1\n",
    "    j = chr(ord(j) + 1)\n",
    "\n",
    "fig.text( 0.5 , 0.05, 'Time (s)', ha='center', fontsize=24)\n",
    "\n",
    "plt.savefig('figures/incite2020_distribution_pilot_durations.pdf', dpi=300, bbox_inches='tight')\n",
    "plt.savefig('figures/incite2020_distribution_pilot_durations.png', dpi=300, bbox_inches='tight')"
   ]
  },
  {
   "cell_type": "code",
   "execution_count": null,
   "metadata": {
    "ExecuteTime": {
     "end_time": "2020-07-31T01:44:05.163744Z",
     "start_time": "2020-07-31T01:44:05.159589Z"
    }
   },
   "outputs": [],
   "source": [
    "metrics_default = [\n",
    "\n",
    "        # pilot overheads (global)\n",
    "        ['Pilot Startup',     ['boot', 'setup_1']],\n",
    "        ['Pilot Termination', ['term' ]],\n",
    "\n",
    "        # derived pilot durations\n",
    "        ['Agent Nodes',       ['agent']],\n",
    "        ['Warmup',            ['warm' ]],\n",
    "        ['Draining',          ['drain']],\n",
    "        ['Idle',              ['idle' ]],\n",
    "\n",
    "        # unit durations (PRTE)\n",
    "        ['Prepare Exec',      ['exec_queue', 'exec_prep']],\n",
    "        ['Exec RP',           ['exec_rp', 'exec_sh', 'term_sh', 'term_rp']],\n",
    "        ['Exec Cmd',          ['exec_cmd']],\n",
    "        ['Unschedule',        ['unschedule']],\n",
    "]"
   ]
  },
  {
   "cell_type": "code",
   "execution_count": null,
   "metadata": {
    "ExecuteTime": {
     "end_time": "2020-07-31T01:44:06.328927Z",
     "start_time": "2020-07-31T01:44:05.165972Z"
    }
   },
   "outputs": [],
   "source": [
    "%%capture capt\n",
    "\n",
    "# Remove cache to avoid reloading errors\n",
    "! rm -r ~/.radical/analytics\n",
    "\n",
    "sobjs = ra.Experiment(sids, stype='radical.pilot')\n",
    "provided, consumed, stats_abs, stats_rel, info = sobjs.utilization(metrics=metrics_default)"
   ]
  },
  {
   "cell_type": "code",
   "execution_count": null,
   "metadata": {
    "ExecuteTime": {
     "end_time": "2020-07-31T01:44:06.335585Z",
     "start_time": "2020-07-31T01:44:06.330883Z"
    }
   },
   "outputs": [],
   "source": [
    "# x-axis labels\n",
    "xkeys = list()\n",
    "\n",
    "# get the numbers we actually want to plot\n",
    "for session in sobjs.sessions:\n",
    "\n",
    "    n_units = len(session.get(etype='unit'))\n",
    "    \n",
    "    p_size = 0\n",
    "    for pilot in session.get(etype='pilot'):\n",
    "        p_size += pilot.description['cores']\n",
    "\n",
    "    xkeys.append('%s / %s' % (n_units, p_size))"
   ]
  },
  {
   "cell_type": "code",
   "execution_count": null,
   "metadata": {
    "ExecuteTime": {
     "end_time": "2020-07-31T01:44:06.341717Z",
     "start_time": "2020-07-31T01:44:06.337497Z"
    }
   },
   "outputs": [],
   "source": [
    "# zero points to zero the axes of the plot.\n",
    "p_zeros = {}\n",
    "for session in sobjs.sessions:\n",
    "    for pilot in session.get(etype='pilot'):\n",
    "        p_zeros[session.uid] = pilot.timestamps(event={ru.EVENT: 'bootstrap_0_start'})[0]"
   ]
  },
  {
   "cell_type": "code",
   "execution_count": null,
   "metadata": {
    "ExecuteTime": {
     "end_time": "2020-07-31T01:44:06.346077Z",
     "start_time": "2020-07-31T01:44:06.343590Z"
    }
   },
   "outputs": [],
   "source": [
    "def update_ticks(x, pos):\n",
    "    return int(x/168)"
   ]
  },
  {
   "cell_type": "code",
   "execution_count": null,
   "metadata": {
    "ExecuteTime": {
     "end_time": "2020-07-31T01:44:58.318270Z",
     "start_time": "2020-07-31T01:44:06.347955Z"
    }
   },
   "outputs": [],
   "source": [
    "skip = []\n",
    "nsids = len(suds) - len(skip)\n",
    "\n",
    "fwidth = 36\n",
    "fhight = 16\n",
    "fig, axarr = plt.subplots(1, nsids, sharex='col', figsize=(fwidth, fhight))\n",
    "\n",
    "i = 0\n",
    "j = 'a'\n",
    "for sid in suds:\n",
    "    \n",
    "    if sid in skip:\n",
    "        continue\n",
    "\n",
    "    if nsids > 1:\n",
    "        ax = axarr[i]\n",
    "        ax.set_xlabel('(%s)' % j, labelpad=45)\n",
    "    else:\n",
    "        ax = axarr\n",
    "\n",
    "    cmap = mpl.cm.get_cmap('tab20c')\n",
    "\n",
    "    step = 1.0 / (len(metrics_default) + 1)\n",
    "    this = step / 1.0\n",
    "    legend = list()\n",
    "\n",
    "    x_min = None\n",
    "    x_max = None\n",
    "    y_min = None\n",
    "    y_max = None\n",
    "    \n",
    "    if sid == 're.session.login3.litan.018501.0043':\n",
    "        ax.set_title('%s/%s Tasks/Nodes (com, ppn=41)' % (ss[sid]['nunit'], int(ss[sid]['nnodes'])), fontdict={'fontsize': 30})\n",
    "        \n",
    "    for metric in metrics_default:\n",
    "\n",
    "        color = cmap(this)\n",
    "        this += step\n",
    "\n",
    "        legend.append(mpl.lines.Line2D([0], [0], color=color, lw=6))\n",
    "\n",
    "        if isinstance(metric, list):\n",
    "            name = metric[0]\n",
    "            parts = metric[1]\n",
    "        else:\n",
    "            name = metric\n",
    "            parts = [metric]\n",
    "\n",
    "        for part in parts:\n",
    "            for uid in consumed[sid][part]:\n",
    "                for block in consumed[sid][part][uid]:\n",
    "                    orig_x = block[0] - p_zeros[sid]\n",
    "                    orig_y = block[2] - 0.5\n",
    "                    width = block[1] - block[0]\n",
    "                    height = block[3] - block[2] + 1.0\n",
    "\n",
    "                    if x_min is None:\n",
    "                        x_min = orig_x\n",
    "                    if x_max is None:\n",
    "                        x_max = orig_x + width\n",
    "                    if y_min is None:\n",
    "                        y_min = orig_x\n",
    "                    if y_max is None:\n",
    "                        y_max = orig_x + height\n",
    "\n",
    "                    x_min = min(x_min, orig_x)\n",
    "                    y_min = min(y_min, orig_y)\n",
    "                    x_max = max(x_max, orig_x + width)\n",
    "                    y_max = max(y_max, orig_y + height)\n",
    "\n",
    "                    patch = mpl.patches.Rectangle((orig_x, orig_y),\n",
    "                                                  width, height,\n",
    "                                                  facecolor=color,\n",
    "                                                  edgecolor='black',\n",
    "                                                  fill=True, lw=0.0)\n",
    "                    ax.add_patch(patch)\n",
    "\n",
    "    ax.set_xlim([x_min, x_max])\n",
    "    ax.set_ylim([y_min, y_max])\n",
    "    \n",
    "    ax.set_xlabel('Time (s)', fontsize=30)\n",
    "    ax.set_ylabel('Node', fontsize=30)\n",
    "    \n",
    "    ax.yaxis.set_major_formatter(mticker.FuncFormatter(update_ticks))\n",
    "\n",
    "    i = i+1\n",
    "    j = chr(ord(j) + 1)\n",
    "    \n",
    "# Add legend\n",
    "ax.legend(legend, [m[0] for m in metrics_default], loc='upper center',\n",
    "           bbox_to_anchor=(0, 1.25), fontsize=30, ncol=4)\n",
    "\n",
    "plt.savefig('figures/incite2020_ru.pdf', dpi=300, bbox_inches='tight')\n",
    "plt.savefig('figures/incite2020_ru.png', dpi=300, bbox_inches='tight')"
   ]
  }
 ],
 "metadata": {
  "hide_input": false,
  "kernelspec": {
   "display_name": "Python 3",
   "language": "python",
   "name": "python3"
  },
  "language_info": {
   "codemirror_mode": {
    "name": "ipython",
    "version": 3
   },
   "file_extension": ".py",
   "mimetype": "text/x-python",
   "name": "python",
   "nbconvert_exporter": "python",
   "pygments_lexer": "ipython3",
   "version": "3.7.6"
  },
  "varInspector": {
   "cols": {
    "lenName": 16,
    "lenType": 16,
    "lenVar": 40
   },
   "kernels_config": {
    "python": {
     "delete_cmd_postfix": "",
     "delete_cmd_prefix": "del ",
     "library": "var_list.py",
     "varRefreshCmd": "print(var_dic_list())"
    },
    "r": {
     "delete_cmd_postfix": ") ",
     "delete_cmd_prefix": "rm(",
     "library": "var_list.r",
     "varRefreshCmd": "cat(var_dic_list()) "
    }
   },
   "types_to_exclude": [
    "module",
    "function",
    "builtin_function_or_method",
    "instance",
    "_Feature"
   ],
   "window_display": false
  }
 },
 "nbformat": 4,
 "nbformat_minor": 4
}
