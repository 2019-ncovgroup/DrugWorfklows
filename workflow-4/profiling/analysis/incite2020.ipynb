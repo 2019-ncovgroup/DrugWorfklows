{
 "cells": [
  {
   "cell_type": "code",
   "execution_count": 1,
   "metadata": {
    "ExecuteTime": {
     "end_time": "2020-06-16T20:56:56.886506Z",
     "start_time": "2020-06-16T20:56:55.651805Z"
    }
   },
   "outputs": [
    {
     "data": {
      "text/html": [
       "<style>.container { width:100% !important; }</style>"
      ],
      "text/plain": [
       "<IPython.core.display.HTML object>"
      ]
     },
     "metadata": {},
     "output_type": "display_data"
    }
   ],
   "source": [
    "%matplotlib inline\n",
    "%run 'bin/notebook_utils.py'\n",
    "%run 'bin/plot_utilization.py'\n",
    "import matplotlib.ticker as mticker\n",
    "import radical.entk as re"
   ]
  },
  {
   "cell_type": "code",
   "execution_count": 2,
   "metadata": {
    "ExecuteTime": {
     "end_time": "2020-06-16T20:56:57.511213Z",
     "start_time": "2020-06-16T20:56:56.889549Z"
    }
   },
   "outputs": [
    {
     "name": "stdout",
     "output_type": "stream",
     "text": [
      "\r\n",
      "  python               : 3.7.6\r\n",
      "  pythonpath           : \r\n",
      "  virtualenv           : base\r\n",
      "\r\n",
      "  radical.analytics    : 0.90.7\r\n",
      "  radical.entk         : 1.4.0\r\n",
      "  radical.pilot        : 1.4.1\r\n",
      "  radical.saga         : 1.4.0\r\n",
      "  radical.utils        : 1.4.0\r\n",
      "\r\n"
     ]
    }
   ],
   "source": [
    "! radical-stack"
   ]
  },
  {
   "cell_type": "code",
   "execution_count": 3,
   "metadata": {
    "ExecuteTime": {
     "end_time": "2020-06-16T20:56:57.517941Z",
     "start_time": "2020-06-16T20:56:57.514422Z"
    }
   },
   "outputs": [],
   "source": [
    "suds = ['re.session.login1.litan.018459.0000']\n",
    "sdir = '../data/raw/'\n",
    "sids = [sdir+s for s in suds]"
   ]
  },
  {
   "cell_type": "code",
   "execution_count": 4,
   "metadata": {
    "ExecuteTime": {
     "end_time": "2020-06-16T20:59:00.350272Z",
     "start_time": "2020-06-16T20:56:57.521125Z"
    }
   },
   "outputs": [
    {
     "name": "stdout",
     "output_type": "stream",
     "text": [
      "WARNING: profile \"../data/raw/re.session.login1.litan.018459.0000/cmgr.0000.hb.prof\" not correctly closed.\n",
      "WARNING: profile \"../data/raw/re.session.login1.litan.018459.0000/cmgr.0000.prof\" not correctly closed.\n",
      "WARNING: profile \"../data/raw/re.session.login1.litan.018459.0000/cmgr.0001.hb.prof\" not correctly closed.\n",
      "WARNING: profile \"../data/raw/re.session.login1.litan.018459.0000/cmgr.0001.prof\" not correctly closed.\n",
      "WARNING: profile \"../data/raw/re.session.login1.litan.018459.0000/cmgr.0002.hb.prof\" not correctly closed.\n",
      "WARNING: profile \"../data/raw/re.session.login1.litan.018459.0000/cmgr.0002.prof\" not correctly closed.\n",
      "WARNING: profile \"../data/raw/re.session.login1.litan.018459.0000/control_pubsub.prof\" not correctly closed.\n",
      "WARNING: profile \"../data/raw/re.session.login1.litan.018459.0000/control_pubsub.pub.0000.prof\" not correctly closed.\n",
      "WARNING: profile \"../data/raw/re.session.login1.litan.018459.0000/control_pubsub.pub.0001.prof\" not correctly closed.\n",
      "WARNING: profile \"../data/raw/re.session.login1.litan.018459.0000/control_pubsub.sub.0000.prof\" not correctly closed.\n",
      "WARNING: profile \"../data/raw/re.session.login1.litan.018459.0000/control_pubsub.sub.0001.prof\" not correctly closed.\n",
      "WARNING: profile \"../data/raw/re.session.login1.litan.018459.0000/heartbeat.pub.0000.prof\" not correctly closed.\n",
      "WARNING: profile \"../data/raw/re.session.login1.litan.018459.0000/heartbeat.pub.0001.prof\" not correctly closed.\n",
      "WARNING: profile \"../data/raw/re.session.login1.litan.018459.0000/heartbeat.pub.0002.prof\" not correctly closed.\n",
      "WARNING: profile \"../data/raw/re.session.login1.litan.018459.0000/heartbeat.sub.0000.prof\" not correctly closed.\n",
      "WARNING: profile \"../data/raw/re.session.login1.litan.018459.0000/heartbeat.sub.0001.prof\" not correctly closed.\n",
      "WARNING: profile \"../data/raw/re.session.login1.litan.018459.0000/heartbeat.sub.0002.prof\" not correctly closed.\n",
      "WARNING: profile \"../data/raw/re.session.login1.litan.018459.0000/log_pubsub.prof\" not correctly closed.\n",
      "WARNING: profile \"../data/raw/re.session.login1.litan.018459.0000/pmgr.0000.prof\" not correctly closed.\n",
      "session loaded\n",
      "WARNING: profile \"../data/raw/re.session.login1.litan.018459.0000/cmgr.0000.hb.prof\" not correctly closed.\n",
      "WARNING: profile \"../data/raw/re.session.login1.litan.018459.0000/cmgr.0000.prof\" not correctly closed.\n",
      "WARNING: profile \"../data/raw/re.session.login1.litan.018459.0000/cmgr.0001.hb.prof\" not correctly closed.\n",
      "WARNING: profile \"../data/raw/re.session.login1.litan.018459.0000/cmgr.0001.prof\" not correctly closed.\n",
      "WARNING: profile \"../data/raw/re.session.login1.litan.018459.0000/cmgr.0002.hb.prof\" not correctly closed.\n",
      "WARNING: profile \"../data/raw/re.session.login1.litan.018459.0000/cmgr.0002.prof\" not correctly closed.\n",
      "WARNING: profile \"../data/raw/re.session.login1.litan.018459.0000/control_pubsub.prof\" not correctly closed.\n",
      "WARNING: profile \"../data/raw/re.session.login1.litan.018459.0000/control_pubsub.pub.0000.prof\" not correctly closed.\n",
      "WARNING: profile \"../data/raw/re.session.login1.litan.018459.0000/control_pubsub.pub.0001.prof\" not correctly closed.\n",
      "WARNING: profile \"../data/raw/re.session.login1.litan.018459.0000/control_pubsub.sub.0000.prof\" not correctly closed.\n",
      "WARNING: profile \"../data/raw/re.session.login1.litan.018459.0000/control_pubsub.sub.0001.prof\" not correctly closed.\n",
      "WARNING: profile \"../data/raw/re.session.login1.litan.018459.0000/heartbeat.pub.0000.prof\" not correctly closed.\n",
      "WARNING: profile \"../data/raw/re.session.login1.litan.018459.0000/heartbeat.pub.0001.prof\" not correctly closed.\n",
      "WARNING: profile \"../data/raw/re.session.login1.litan.018459.0000/heartbeat.pub.0002.prof\" not correctly closed.\n",
      "WARNING: profile \"../data/raw/re.session.login1.litan.018459.0000/heartbeat.sub.0000.prof\" not correctly closed.\n",
      "WARNING: profile \"../data/raw/re.session.login1.litan.018459.0000/heartbeat.sub.0001.prof\" not correctly closed.\n",
      "WARNING: profile \"../data/raw/re.session.login1.litan.018459.0000/heartbeat.sub.0002.prof\" not correctly closed.\n",
      "WARNING: profile \"../data/raw/re.session.login1.litan.018459.0000/log_pubsub.prof\" not correctly closed.\n",
      "WARNING: profile \"../data/raw/re.session.login1.litan.018459.0000/pmgr.0000.prof\" not correctly closed.\n",
      "session loaded\n",
      "WARNING: profile \"../data/raw/re.session.login1.litan.018459.0000/cmgr.0000.hb.prof\" not correctly closed.\n",
      "WARNING: profile \"../data/raw/re.session.login1.litan.018459.0000/cmgr.0000.prof\" not correctly closed.\n",
      "WARNING: profile \"../data/raw/re.session.login1.litan.018459.0000/cmgr.0001.hb.prof\" not correctly closed.\n",
      "WARNING: profile \"../data/raw/re.session.login1.litan.018459.0000/cmgr.0001.prof\" not correctly closed.\n",
      "WARNING: profile \"../data/raw/re.session.login1.litan.018459.0000/cmgr.0002.hb.prof\" not correctly closed.\n",
      "WARNING: profile \"../data/raw/re.session.login1.litan.018459.0000/cmgr.0002.prof\" not correctly closed.\n",
      "WARNING: profile \"../data/raw/re.session.login1.litan.018459.0000/control_pubsub.prof\" not correctly closed.\n",
      "WARNING: profile \"../data/raw/re.session.login1.litan.018459.0000/control_pubsub.pub.0000.prof\" not correctly closed.\n",
      "WARNING: profile \"../data/raw/re.session.login1.litan.018459.0000/control_pubsub.pub.0001.prof\" not correctly closed.\n",
      "WARNING: profile \"../data/raw/re.session.login1.litan.018459.0000/control_pubsub.sub.0000.prof\" not correctly closed.\n",
      "WARNING: profile \"../data/raw/re.session.login1.litan.018459.0000/control_pubsub.sub.0001.prof\" not correctly closed.\n",
      "WARNING: profile \"../data/raw/re.session.login1.litan.018459.0000/heartbeat.pub.0000.prof\" not correctly closed.\n",
      "WARNING: profile \"../data/raw/re.session.login1.litan.018459.0000/heartbeat.pub.0001.prof\" not correctly closed.\n",
      "WARNING: profile \"../data/raw/re.session.login1.litan.018459.0000/heartbeat.pub.0002.prof\" not correctly closed.\n",
      "WARNING: profile \"../data/raw/re.session.login1.litan.018459.0000/heartbeat.sub.0000.prof\" not correctly closed.\n",
      "WARNING: profile \"../data/raw/re.session.login1.litan.018459.0000/heartbeat.sub.0001.prof\" not correctly closed.\n",
      "WARNING: profile \"../data/raw/re.session.login1.litan.018459.0000/heartbeat.sub.0002.prof\" not correctly closed.\n",
      "WARNING: profile \"../data/raw/re.session.login1.litan.018459.0000/log_pubsub.prof\" not correctly closed.\n",
      "WARNING: profile \"../data/raw/re.session.login1.litan.018459.0000/pmgr.0000.prof\" not correctly closed.\n",
      "session loaded\n",
      "WARNING: profile \"../data/raw/re.session.login1.litan.018459.0000/cmgr.0000.hb.prof\" not correctly closed.\n",
      "WARNING: profile \"../data/raw/re.session.login1.litan.018459.0000/cmgr.0000.prof\" not correctly closed.\n",
      "WARNING: profile \"../data/raw/re.session.login1.litan.018459.0000/cmgr.0001.hb.prof\" not correctly closed.\n",
      "WARNING: profile \"../data/raw/re.session.login1.litan.018459.0000/cmgr.0001.prof\" not correctly closed.\n",
      "WARNING: profile \"../data/raw/re.session.login1.litan.018459.0000/cmgr.0002.hb.prof\" not correctly closed.\n",
      "WARNING: profile \"../data/raw/re.session.login1.litan.018459.0000/cmgr.0002.prof\" not correctly closed.\n",
      "WARNING: profile \"../data/raw/re.session.login1.litan.018459.0000/control_pubsub.prof\" not correctly closed.\n",
      "WARNING: profile \"../data/raw/re.session.login1.litan.018459.0000/control_pubsub.pub.0000.prof\" not correctly closed.\n",
      "WARNING: profile \"../data/raw/re.session.login1.litan.018459.0000/control_pubsub.pub.0001.prof\" not correctly closed.\n",
      "WARNING: profile \"../data/raw/re.session.login1.litan.018459.0000/control_pubsub.sub.0000.prof\" not correctly closed.\n",
      "WARNING: profile \"../data/raw/re.session.login1.litan.018459.0000/control_pubsub.sub.0001.prof\" not correctly closed.\n",
      "WARNING: profile \"../data/raw/re.session.login1.litan.018459.0000/heartbeat.pub.0000.prof\" not correctly closed.\n",
      "WARNING: profile \"../data/raw/re.session.login1.litan.018459.0000/heartbeat.pub.0001.prof\" not correctly closed.\n",
      "WARNING: profile \"../data/raw/re.session.login1.litan.018459.0000/heartbeat.pub.0002.prof\" not correctly closed.\n",
      "WARNING: profile \"../data/raw/re.session.login1.litan.018459.0000/heartbeat.sub.0000.prof\" not correctly closed.\n",
      "WARNING: profile \"../data/raw/re.session.login1.litan.018459.0000/heartbeat.sub.0001.prof\" not correctly closed.\n",
      "WARNING: profile \"../data/raw/re.session.login1.litan.018459.0000/heartbeat.sub.0002.prof\" not correctly closed.\n",
      "WARNING: profile \"../data/raw/re.session.login1.litan.018459.0000/log_pubsub.prof\" not correctly closed.\n",
      "WARNING: profile \"../data/raw/re.session.login1.litan.018459.0000/pmgr.0000.prof\" not correctly closed.\n"
     ]
    },
    {
     "name": "stdout",
     "output_type": "stream",
     "text": [
      "session loaded\n",
      "WARNING: profile \"../data/raw/re.session.login1.litan.018459.0000/cmgr.0000.hb.prof\" not correctly closed.\n",
      "WARNING: profile \"../data/raw/re.session.login1.litan.018459.0000/cmgr.0000.prof\" not correctly closed.\n",
      "WARNING: profile \"../data/raw/re.session.login1.litan.018459.0000/cmgr.0001.hb.prof\" not correctly closed.\n",
      "WARNING: profile \"../data/raw/re.session.login1.litan.018459.0000/cmgr.0001.prof\" not correctly closed.\n",
      "WARNING: profile \"../data/raw/re.session.login1.litan.018459.0000/cmgr.0002.hb.prof\" not correctly closed.\n",
      "WARNING: profile \"../data/raw/re.session.login1.litan.018459.0000/cmgr.0002.prof\" not correctly closed.\n",
      "WARNING: profile \"../data/raw/re.session.login1.litan.018459.0000/control_pubsub.prof\" not correctly closed.\n",
      "WARNING: profile \"../data/raw/re.session.login1.litan.018459.0000/control_pubsub.pub.0000.prof\" not correctly closed.\n",
      "WARNING: profile \"../data/raw/re.session.login1.litan.018459.0000/control_pubsub.pub.0001.prof\" not correctly closed.\n",
      "WARNING: profile \"../data/raw/re.session.login1.litan.018459.0000/control_pubsub.sub.0000.prof\" not correctly closed.\n",
      "WARNING: profile \"../data/raw/re.session.login1.litan.018459.0000/control_pubsub.sub.0001.prof\" not correctly closed.\n",
      "WARNING: profile \"../data/raw/re.session.login1.litan.018459.0000/heartbeat.pub.0000.prof\" not correctly closed.\n",
      "WARNING: profile \"../data/raw/re.session.login1.litan.018459.0000/heartbeat.pub.0001.prof\" not correctly closed.\n",
      "WARNING: profile \"../data/raw/re.session.login1.litan.018459.0000/heartbeat.pub.0002.prof\" not correctly closed.\n",
      "WARNING: profile \"../data/raw/re.session.login1.litan.018459.0000/heartbeat.sub.0000.prof\" not correctly closed.\n",
      "WARNING: profile \"../data/raw/re.session.login1.litan.018459.0000/heartbeat.sub.0001.prof\" not correctly closed.\n",
      "WARNING: profile \"../data/raw/re.session.login1.litan.018459.0000/heartbeat.sub.0002.prof\" not correctly closed.\n",
      "WARNING: profile \"../data/raw/re.session.login1.litan.018459.0000/log_pubsub.prof\" not correctly closed.\n",
      "WARNING: profile \"../data/raw/re.session.login1.litan.018459.0000/pmgr.0000.prof\" not correctly closed.\n",
      "session loaded\n"
     ]
    }
   ],
   "source": [
    "ss = {}\n",
    "for sid in suds:\n",
    "    sp = sdir+sid\n",
    "    ss[sid] = {'s': ra.Session(sp, 'radical.pilot')}\n",
    "    ss[sid].update({'p': ss[sid]['s'].filter(etype='pilot'   , inplace=False),\n",
    "                    'u': ss[sid]['s'].filter(etype='unit'    , inplace=False),\n",
    "                    't': ss[sid]['s'].filter(etype='task'    , inplace=False),\n",
    "                    'w': ss[sid]['s'].filter(etype='pipeline', inplace=False)})"
   ]
  },
  {
   "cell_type": "code",
   "execution_count": 5,
   "metadata": {
    "ExecuteTime": {
     "end_time": "2020-06-16T20:59:00.363319Z",
     "start_time": "2020-06-16T20:59:00.352332Z"
    }
   },
   "outputs": [],
   "source": [
    "for sid in suds:\n",
    "    ss[sid].update({'sid'   : ss[sid]['s'].uid,\n",
    "                    'pid'   : ss[sid]['p'].list('uid'),\n",
    "                    'npilot': len(ss[sid]['p'].get()),\n",
    "                    'lm'    : ss[sid]['s'].get(etype='pilot')[0].cfg['agent_launch_method'],\n",
    "                    'npact' : len(ss[sid]['p'].timestamps(state='PMGR_ACTIVE')),\n",
    "                    'nunit' : len(ss[sid]['u'].get()),\n",
    "                    'nudone': len(ss[sid]['u'].timestamps(state='DONE')),\n",
    "                    'nufail': len(ss[sid]['u'].timestamps(state='FAILED'))})\n",
    "    ss[sid].update({'pres'  : ss[sid]['p'].get(uid=ss[sid]['pid'])[0].description['resource'],\n",
    "                    'ncores': ss[sid]['p'].get(uid=ss[sid]['pid'])[0].description['cores'],\n",
    "                    'ngpus' : ss[sid]['p'].get(uid=ss[sid]['pid'])[0].description['gpus']})                  \n",
    "    ss[sid].update({'nnodes': ss[sid]['ngpus']/6})"
   ]
  },
  {
   "cell_type": "code",
   "execution_count": 6,
   "metadata": {
    "ExecuteTime": {
     "end_time": "2020-06-16T20:59:00.371528Z",
     "start_time": "2020-06-16T20:59:00.365360Z"
    }
   },
   "outputs": [
    {
     "name": "stdout",
     "output_type": "stream",
     "text": [
      "\n",
      "re.session.login1.litan.018459.0000:\n",
      "\tName of the HPC platform: ornl.summit\n",
      "\tPilot launch method: JSRUN\n",
      "\tNumber of pilots requested: 1\n",
      "\tNumber of pilots active: 1\n",
      "\tNumber of requested cores: 2730\n",
      "\tNumber of requested GPUs: 390\n",
      "\tNumber of requested nodes: 65.0\n",
      "\tNumber of nodes asked by ENTK: 65\n",
      "\tNumber of tasks executed by EnTK: 39\n",
      "\tNumber of tasks successfully executed by EnTK: 39\n",
      "\tNumber of failed tasks: 0\n",
      "\n"
     ]
    }
   ],
   "source": [
    "for sid in suds:\n",
    "    print(\"\"\"\n",
    "%s:\n",
    "\\tName of the HPC platform: %s\n",
    "\\tPilot launch method: %s\n",
    "\\tNumber of pilots requested: %i\n",
    "\\tNumber of pilots active: %i\n",
    "\\tNumber of requested cores: %i\n",
    "\\tNumber of requested GPUs: %s\n",
    "\\tNumber of requested nodes: %s\n",
    "\\tNumber of nodes asked by ENTK: %i\n",
    "\\tNumber of tasks executed by EnTK: %i\n",
    "\\tNumber of tasks successfully executed by EnTK: %i\n",
    "\\tNumber of failed tasks: %i\n",
    "\"\"\" % (sid              , ss[sid]['pres']  , ss[sid]['lm'], \n",
    "       ss[sid]['npilot'], ss[sid]['npact'] , ss[sid]['ncores']/4, \n",
    "       ss[sid]['ngpus'] , ss[sid]['nnodes'], ss[sid]['ncores']/168, \n",
    "       ss[sid]['nunit'] , ss[sid]['nudone'], ss[sid]['nufail']))"
   ]
  },
  {
   "cell_type": "code",
   "execution_count": 7,
   "metadata": {
    "ExecuteTime": {
     "end_time": "2020-06-16T20:59:00.421177Z",
     "start_time": "2020-06-16T20:59:00.374005Z"
    }
   },
   "outputs": [],
   "source": [
    "for sid in suds:\n",
    "    w  = ss[sid]['w']\n",
    "    u  = ss[sid]['u']\n",
    "    t  = ss[sid]['t']\n",
    "    p  = ss[sid]['p']\n",
    "    p0 = p.get(uid=ss[sid]['pid'])[0]\n",
    "\n",
    "    ss[sid].update({\n",
    "      'ttc'  : p0.duration(event=[ {ru.EVENT: 'state'        , ru.STATE: rp.NEW                }, \n",
    "                                  [{ru.EVENT: 'state'        , ru.STATE: re.states.COMPLETED   },\n",
    "                                   {ru.EVENT: 'state'        , ru.STATE: re.states.CANCELED    },\n",
    "                                   {ru.EVENT: 'state'        , ru.STATE: re.states.FAILED      }]]),\n",
    "      'ttq_p': p0.duration(event=[ {ru.EVENT: 'state'        , ru.STATE: rp.PMGR_ACTIVE_PENDING}, \n",
    "                                   {ru.EVENT: 'state'        , ru.STATE: rp.PMGR_ACTIVE        } ]),\n",
    "      'ttx_w': w.duration( event=[ {ru.EVENT: 'state'        , ru.STATE: re.states.SCHEDULING  },\n",
    "                                   {ru.EVENT: 'state'        , ru.STATE: re.states.DONE        } ]),\n",
    "      'ttx_u': u.duration( event=[ {ru.EVENT: 'cu_exec_start', ru.STATE: None                  },      \n",
    "                                   {ru.EVENT: 'cu_exec_stop' , ru.STATE: None                  } ]),\n",
    "      'ttx_p': p0.duration(event=[ {ru.EVENT: 'state'        , ru.STATE: rp.PMGR_ACTIVE        },\n",
    "                                  [{ru.EVENT: 'state'        , ru.STATE: rp.DONE               },\n",
    "                                   {ru.EVENT: 'state'        , ru.STATE: rp.FAILED             },\n",
    "                                   {ru.EVENT: 'state'        , ru.STATE: rp.CANCELED           }]]),\n",
    "      'sub_t': t.duration( event=[ {ru.EVENT: 'state'        , ru.STATE: re.states.SCHEDULING  },\n",
    "                                   {ru.EVENT: 'state'        , ru.STATE: re.states.SUBMITTING  } ]),\n",
    "      'ttx_t': t.duration( event=[ {ru.EVENT: 'state'        , ru.STATE: re.states.SUBMITTING  },\n",
    "                                  [{ru.EVENT: 'state'        , ru.STATE: re.states.COMPLETED   },\n",
    "                                   {ru.EVENT: 'state'        , ru.STATE: re.states.CANCELED    },\n",
    "                                   {ru.EVENT: 'state'        , ru.STATE: re.states.FAILED      }]])})\n",
    "    \n",
    "    ss[sid].update({'ovh_rtc': ss[sid]['ttx_w'] - ss[sid]['ttx_u']})"
   ]
  },
  {
   "cell_type": "code",
   "execution_count": 8,
   "metadata": {
    "ExecuteTime": {
     "end_time": "2020-06-16T20:59:03.462411Z",
     "start_time": "2020-06-16T20:59:00.424994Z"
    }
   },
   "outputs": [
    {
     "name": "stderr",
     "output_type": "stream",
     "text": [
      "/root/miniconda3/lib/python3.7/site-packages/matplotlib/font_manager.py:1238: UserWarning: findfont: Font family ['serif'] not found. Falling back to DejaVu Sans.\n",
      "  (prop.get_family(), self.defaultFamily[fontext]))\n"
     ]
    },
    {
     "data": {
      "image/png": "[encoded data removed]",
      "text/plain": [
       "<Figure size 432x288 with 1 Axes>"
      ]
     },
     "metadata": {},
     "output_type": "display_data"
    }
   ],
   "source": [
    "fwidth = 6*len(suds)\n",
    "fhight = 4\n",
    "fig, axarr = plt.subplots(1, len(suds), sharey=True, figsize=(fwidth, fhight))\n",
    "\n",
    "i = 0\n",
    "j = 'a'\n",
    "for sid in suds:\n",
    "    if len(suds) > 1:\n",
    "        ax = axarr[i]\n",
    "    else:\n",
    "        ax = axarr\n",
    "    \n",
    "    ax.title.set_text('%s/%s Tasks/Nodes' % (ss[sid]['nunit'], int(ss[sid]['nnodes'])))\n",
    "\n",
    "    ax.bar(x = 'OVH', height = ss[sid]['ovh_rtc'], color = tableau20[1])\n",
    "    ax.bar(x = 'TTX', height = ss[sid]['ttx_u']  , color = tableau20[3])\n",
    "\n",
    "    ax.set_xlabel('(%s)' % j, labelpad=45)\n",
    "\n",
    "    i = i+1\n",
    "    j = chr(ord(j) + 1)\n",
    "\n",
    "fig.text(-0.1,  0.5 , 'Time (s)', va='center', rotation='vertical', fontsize=24)\n",
    "fig.text( 0.5, -0.05, 'Metric'  , ha='center', fontsize=24)\n",
    "fig.legend(['RADICAL Cybertools overhead (OVH)', 'Workflow time to completion (TTX)'], loc='upper center', \n",
    "           bbox_to_anchor=(0.52, 1.6), fontsize=24, ncol=1)\n",
    "    \n",
    "plt.savefig('figures/incite2020_ovh_ttx_jsrun.pdf', dpi=300, bbox_inches='tight')\n",
    "plt.savefig('figures/incite2020_ovh_ttx_jsrun.png', dpi=300, bbox_inches='tight')"
   ]
  },
  {
   "cell_type": "code",
   "execution_count": 9,
   "metadata": {
    "ExecuteTime": {
     "end_time": "2020-06-16T20:59:03.470149Z",
     "start_time": "2020-06-16T20:59:03.465557Z"
    }
   },
   "outputs": [],
   "source": [
    "metrics_default = [\n",
    "\n",
    "        # pilot overheads (global)\n",
    "        ['Pilot Startup',     ['boot', 'setup_1']],\n",
    "        ['Pilot Termination', ['term' ]],\n",
    "\n",
    "        # derived pilot durations\n",
    "        ['Agent Nodes',       ['agent']],\n",
    "        ['Warmup',            ['warm' ]],\n",
    "        ['Draining',          ['drain']],\n",
    "        ['Idle',              ['idle' ]],\n",
    "\n",
    "        # unit durations (PRTE)\n",
    "        ['Prepare Exec',      ['exec_queue', 'exec_prep']],\n",
    "        ['Exec RP',           ['exec_rp', 'exec_sh', 'term_sh', 'term_rp']],\n",
    "        ['Exec Cmd',          ['exec_cmd']],\n",
    "        ['Unschedule',        ['unschedule']],\n",
    "]"
   ]
  },
  {
   "cell_type": "code",
   "execution_count": 10,
   "metadata": {
    "ExecuteTime": {
     "end_time": "2020-06-16T20:59:13.271118Z",
     "start_time": "2020-06-16T20:59:03.472399Z"
    }
   },
   "outputs": [
    {
     "name": "stdout",
     "output_type": "stream",
     "text": [
      "cache read failed: [Errno 2] No such file or directory: '/root/.radical/analytics/cache//re.session.login1.litan.018459.0000.pickle'\n",
      "WARNING: profile \"../data/raw/re.session.login1.litan.018459.0000/cmgr.0000.hb.prof\" not correctly closed.\n",
      "WARNING: profile \"../data/raw/re.session.login1.litan.018459.0000/cmgr.0000.prof\" not correctly closed.\n",
      "WARNING: profile \"../data/raw/re.session.login1.litan.018459.0000/cmgr.0001.hb.prof\" not correctly closed.\n",
      "WARNING: profile \"../data/raw/re.session.login1.litan.018459.0000/cmgr.0001.prof\" not correctly closed.\n",
      "WARNING: profile \"../data/raw/re.session.login1.litan.018459.0000/cmgr.0002.hb.prof\" not correctly closed.\n",
      "WARNING: profile \"../data/raw/re.session.login1.litan.018459.0000/cmgr.0002.prof\" not correctly closed.\n",
      "WARNING: profile \"../data/raw/re.session.login1.litan.018459.0000/control_pubsub.prof\" not correctly closed.\n",
      "WARNING: profile \"../data/raw/re.session.login1.litan.018459.0000/control_pubsub.pub.0000.prof\" not correctly closed.\n",
      "WARNING: profile \"../data/raw/re.session.login1.litan.018459.0000/control_pubsub.pub.0001.prof\" not correctly closed.\n",
      "WARNING: profile \"../data/raw/re.session.login1.litan.018459.0000/control_pubsub.sub.0000.prof\" not correctly closed.\n",
      "WARNING: profile \"../data/raw/re.session.login1.litan.018459.0000/control_pubsub.sub.0001.prof\" not correctly closed.\n",
      "WARNING: profile \"../data/raw/re.session.login1.litan.018459.0000/heartbeat.pub.0000.prof\" not correctly closed.\n",
      "WARNING: profile \"../data/raw/re.session.login1.litan.018459.0000/heartbeat.pub.0001.prof\" not correctly closed.\n",
      "WARNING: profile \"../data/raw/re.session.login1.litan.018459.0000/heartbeat.pub.0002.prof\" not correctly closed.\n",
      "WARNING: profile \"../data/raw/re.session.login1.litan.018459.0000/heartbeat.sub.0000.prof\" not correctly closed.\n",
      "WARNING: profile \"../data/raw/re.session.login1.litan.018459.0000/heartbeat.sub.0001.prof\" not correctly closed.\n",
      "WARNING: profile \"../data/raw/re.session.login1.litan.018459.0000/heartbeat.sub.0002.prof\" not correctly closed.\n",
      "WARNING: profile \"../data/raw/re.session.login1.litan.018459.0000/log_pubsub.prof\" not correctly closed.\n",
      "WARNING: profile \"../data/raw/re.session.login1.litan.018459.0000/pmgr.0000.prof\" not correctly closed.\n",
      "session loaded\n"
     ]
    },
    {
     "ename": "IndexError",
     "evalue": "list index out of range",
     "output_type": "error",
     "traceback": [
      "\u001b[0;31m---------------------------------------------------------------------------\u001b[0m",
      "\u001b[0;31mIndexError\u001b[0m                                Traceback (most recent call last)",
      "\u001b[0;32m<ipython-input-10-afa3a0dc86a2>\u001b[0m in \u001b[0;36m<module>\u001b[0;34m\u001b[0m\n\u001b[1;32m      1\u001b[0m \u001b[0msobjs\u001b[0m \u001b[0;34m=\u001b[0m \u001b[0mra\u001b[0m\u001b[0;34m.\u001b[0m\u001b[0mExperiment\u001b[0m\u001b[0;34m(\u001b[0m\u001b[0msids\u001b[0m\u001b[0;34m,\u001b[0m \u001b[0mstype\u001b[0m\u001b[0;34m=\u001b[0m\u001b[0;34m'radical.pilot'\u001b[0m\u001b[0;34m)\u001b[0m\u001b[0;34m\u001b[0m\u001b[0;34m\u001b[0m\u001b[0m\n\u001b[0;32m----> 2\u001b[0;31m \u001b[0mprovided\u001b[0m\u001b[0;34m,\u001b[0m \u001b[0mconsumed\u001b[0m\u001b[0;34m,\u001b[0m \u001b[0mstats_abs\u001b[0m\u001b[0;34m,\u001b[0m \u001b[0mstats_rel\u001b[0m\u001b[0;34m,\u001b[0m \u001b[0minfo\u001b[0m \u001b[0;34m=\u001b[0m \u001b[0msobjs\u001b[0m\u001b[0;34m.\u001b[0m\u001b[0mutilization\u001b[0m\u001b[0;34m(\u001b[0m\u001b[0mmetrics\u001b[0m\u001b[0;34m=\u001b[0m\u001b[0mmetrics_default\u001b[0m\u001b[0;34m)\u001b[0m\u001b[0;34m\u001b[0m\u001b[0;34m\u001b[0m\u001b[0m\n\u001b[0m",
      "\u001b[0;32m~/miniconda3/lib/python3.7/site-packages/radical/analytics/experiment.py\u001b[0m in \u001b[0;36mutilization\u001b[0;34m(self, metrics)\u001b[0m\n\u001b[1;32m    110\u001b[0m             \u001b[0msid\u001b[0m \u001b[0;34m=\u001b[0m \u001b[0msession\u001b[0m\u001b[0;34m.\u001b[0m\u001b[0muid\u001b[0m\u001b[0;34m\u001b[0m\u001b[0;34m\u001b[0m\u001b[0m\n\u001b[1;32m    111\u001b[0m             \u001b[0mprovided\u001b[0m\u001b[0;34m[\u001b[0m\u001b[0msid\u001b[0m\u001b[0;34m]\u001b[0m \u001b[0;34m=\u001b[0m \u001b[0mrp\u001b[0m\u001b[0;34m.\u001b[0m\u001b[0mutils\u001b[0m\u001b[0;34m.\u001b[0m\u001b[0mget_provided_resources\u001b[0m\u001b[0;34m(\u001b[0m\u001b[0msession\u001b[0m\u001b[0;34m)\u001b[0m\u001b[0;34m\u001b[0m\u001b[0;34m\u001b[0m\u001b[0m\n\u001b[0;32m--> 112\u001b[0;31m             \u001b[0mconsumed\u001b[0m\u001b[0;34m[\u001b[0m\u001b[0msid\u001b[0m\u001b[0;34m]\u001b[0m \u001b[0;34m=\u001b[0m \u001b[0mrp\u001b[0m\u001b[0;34m.\u001b[0m\u001b[0mutils\u001b[0m\u001b[0;34m.\u001b[0m\u001b[0mget_consumed_resources\u001b[0m\u001b[0;34m(\u001b[0m\u001b[0msession\u001b[0m\u001b[0;34m)\u001b[0m\u001b[0;34m\u001b[0m\u001b[0;34m\u001b[0m\u001b[0m\n\u001b[0m\u001b[1;32m    113\u001b[0m \u001b[0;34m\u001b[0m\u001b[0m\n\u001b[1;32m    114\u001b[0m             \u001b[0mtotal\u001b[0m \u001b[0;34m=\u001b[0m \u001b[0;36m0.0\u001b[0m\u001b[0;34m\u001b[0m\u001b[0;34m\u001b[0m\u001b[0m\n",
      "\u001b[0;32m~/miniconda3/lib/python3.7/site-packages/radical/pilot/utils/prof_utils.py\u001b[0m in \u001b[0;36mget_consumed_resources\u001b[0;34m(session)\u001b[0m\n\u001b[1;32m    563\u001b[0m \u001b[0;34m\u001b[0m\u001b[0m\n\u001b[1;32m    564\u001b[0m         \u001b[0mp_min\u001b[0m \u001b[0;34m=\u001b[0m \u001b[0mpt\u001b[0m\u001b[0;34m(\u001b[0m\u001b[0mevent\u001b[0m\u001b[0;34m=\u001b[0m\u001b[0mPILOT_DURATIONS\u001b[0m\u001b[0;34m[\u001b[0m\u001b[0;34m'consume'\u001b[0m\u001b[0;34m]\u001b[0m\u001b[0;34m[\u001b[0m\u001b[0;34m'ignore'\u001b[0m\u001b[0;34m]\u001b[0m\u001b[0;34m[\u001b[0m\u001b[0;36m0\u001b[0m\u001b[0;34m]\u001b[0m\u001b[0;34m)\u001b[0m \u001b[0;34m[\u001b[0m\u001b[0;36m0\u001b[0m\u001b[0;34m]\u001b[0m\u001b[0;34m\u001b[0m\u001b[0;34m\u001b[0m\u001b[0m\n\u001b[0;32m--> 565\u001b[0;31m         \u001b[0mp_max\u001b[0m \u001b[0;34m=\u001b[0m \u001b[0mpt\u001b[0m\u001b[0;34m(\u001b[0m\u001b[0mevent\u001b[0m\u001b[0;34m=\u001b[0m\u001b[0mPILOT_DURATIONS\u001b[0m\u001b[0;34m[\u001b[0m\u001b[0;34m'consume'\u001b[0m\u001b[0;34m]\u001b[0m\u001b[0;34m[\u001b[0m\u001b[0;34m'ignore'\u001b[0m\u001b[0;34m]\u001b[0m\u001b[0;34m[\u001b[0m\u001b[0;36m1\u001b[0m\u001b[0;34m]\u001b[0m\u001b[0;34m)\u001b[0m\u001b[0;34m[\u001b[0m\u001b[0;34m-\u001b[0m\u001b[0;36m1\u001b[0m\u001b[0;34m]\u001b[0m\u001b[0;34m\u001b[0m\u001b[0;34m\u001b[0m\u001b[0m\n\u001b[0m\u001b[1;32m    566\u001b[0m       \u001b[0;31m# p_max = pilot.events[-1][ru.TIME]\u001b[0m\u001b[0;34m\u001b[0m\u001b[0;34m\u001b[0m\u001b[0;34m\u001b[0m\u001b[0m\n\u001b[1;32m    567\u001b[0m         \u001b[0mlog\u001b[0m\u001b[0;34m.\u001b[0m\u001b[0mdebug\u001b[0m\u001b[0;34m(\u001b[0m\u001b[0;34m'pmin, pmax: %10.2f / %10.2f'\u001b[0m\u001b[0;34m,\u001b[0m \u001b[0mp_min\u001b[0m\u001b[0;34m,\u001b[0m \u001b[0mp_max\u001b[0m\u001b[0;34m)\u001b[0m\u001b[0;34m\u001b[0m\u001b[0;34m\u001b[0m\u001b[0m\n",
      "\u001b[0;31mIndexError\u001b[0m: list index out of range"
     ]
    }
   ],
   "source": [
    "sobjs = ra.Experiment(sids, stype='radical.pilot')\n",
    "provided, consumed, stats_abs, stats_rel, info = sobjs.utilization(metrics=metrics_default)"
   ]
  },
  {
   "cell_type": "code",
   "execution_count": 11,
   "metadata": {
    "ExecuteTime": {
     "end_time": "2020-06-16T20:59:13.277096Z",
     "start_time": "2020-06-16T20:59:13.272870Z"
    }
   },
   "outputs": [],
   "source": [
    "# x-axis labels\n",
    "xkeys = list()\n",
    "\n",
    "# get the numbers we actually want to plot\n",
    "for session in sobjs.sessions:\n",
    "\n",
    "    n_units = len(session.get(etype='unit'))\n",
    "    \n",
    "    p_size = 0\n",
    "    for pilot in session.get(etype='pilot'):\n",
    "        p_size += pilot.description['cores']\n",
    "\n",
    "    xkeys.append('%s / %s' % (n_units, p_size))"
   ]
  },
  {
   "cell_type": "code",
   "execution_count": 12,
   "metadata": {
    "ExecuteTime": {
     "end_time": "2020-06-16T20:59:13.281762Z",
     "start_time": "2020-06-16T20:59:13.279028Z"
    }
   },
   "outputs": [],
   "source": [
    "def update_ticks(x, pos):\n",
    "    return int(x/4)"
   ]
  },
  {
   "cell_type": "code",
   "execution_count": 13,
   "metadata": {
    "ExecuteTime": {
     "end_time": "2020-06-16T20:59:20.717198Z",
     "start_time": "2020-06-16T20:59:13.284328Z"
    }
   },
   "outputs": [
    {
     "data": {
      "image/png": "[encoded data removed]",
      "text/plain": [
       "<Figure size 720x288 with 1 Axes>"
      ]
     },
     "metadata": {},
     "output_type": "display_data"
    }
   ],
   "source": [
    "# core/gpu utilization over time (box plot)\n",
    "\n",
    "fwidth = 10*len(suds)\n",
    "fhight = 4\n",
    "fig, axarr = plt.subplots(1, len(suds), sharex='col', figsize=(fwidth, fhight))  # , sharey='row')\n",
    "\n",
    "i = 0\n",
    "j = 'a'\n",
    "for sid in suds:\n",
    "\n",
    "    if len(suds) > 1:\n",
    "        ax = axarr[i]\n",
    "    else:\n",
    "        ax = axarr\n",
    "\n",
    "    cmap = mpl.cm.get_cmap('tab20c')\n",
    "\n",
    "    step = 1.0 / (len(metrics_default) + 1)\n",
    "    this = step / 1.0\n",
    "    legend = list()\n",
    "\n",
    "    x_min = None\n",
    "    x_max = None\n",
    "    y_min = None\n",
    "    y_max = None\n",
    "    \n",
    "    ax.title.set_text('%s/%s Tasks/Nodes' % (ss[sid]['nunit'], int(ss[sid]['nnodes'])))\n",
    "\n",
    "    for metric in metrics_default:\n",
    "\n",
    "        color = cmap(this)\n",
    "        this += step\n",
    "\n",
    "        legend.append(mpl.lines.Line2D([0], [0], color=color, lw=6))\n",
    "\n",
    "        if isinstance(metric, list):\n",
    "            name = metric[0]\n",
    "            parts = metric[1]\n",
    "        else:\n",
    "            name = metric\n",
    "            parts = [metric]\n",
    "\n",
    "        for part in parts:\n",
    "            for uid in consumed[sid][part]:\n",
    "                for block in consumed[sid][part][uid]:\n",
    "                    orig_x = block[0]\n",
    "                    orig_y = block[2] - 0.5\n",
    "                    width = block[1] - block[0]\n",
    "                    height = block[3] - block[2] + 1.0\n",
    "\n",
    "                    if x_min is None:\n",
    "                        x_min = orig_x\n",
    "                    if x_max is None:\n",
    "                        x_max = orig_x + width\n",
    "                    if y_min is None:\n",
    "                        y_min = orig_x\n",
    "                    if y_max is None:\n",
    "                        y_max = orig_x + height\n",
    "\n",
    "                    x_min = min(x_min, orig_x)\n",
    "                    y_min = min(y_min, orig_y)\n",
    "                    x_max = max(x_max, orig_x + width)\n",
    "                    y_max = max(y_max, orig_y + height)\n",
    "\n",
    "                    patch = mpl.patches.Rectangle((orig_x, orig_y),\n",
    "                                                  width, height,\n",
    "                                                  facecolor=color,\n",
    "                                                  edgecolor='black',\n",
    "                                                  fill=True, lw=0.0)\n",
    "                    ax.add_patch(patch)\n",
    "\n",
    "    ax.set_xlim([x_min, x_max])\n",
    "    ax.set_ylim([y_min, y_max])\n",
    "    \n",
    "    ax.set_xlabel('(%s)' % j, labelpad=45)\n",
    "    ax.yaxis.set_major_formatter(mticker.FuncFormatter(update_ticks))\n",
    "\n",
    "    i = i+1\n",
    "    j = chr(ord(j) + 1)\n",
    "\n",
    "# Add common axes lables\n",
    "fig.text(0,  0.5, 'Core ID' , va='center', rotation='vertical', fontsize=24)\n",
    "fig.text( 0.5 , -0.1, 'Time (s)', ha='center', fontsize=24)\n",
    "    \n",
    "# Add legend\n",
    "fig.legend(legend, [m[0] for m in metrics_default], loc='upper center', \n",
    "           bbox_to_anchor=(0.7, 1.7), fontsize=26, ncol=4)\n",
    "\n",
    "plt.savefig('figures/incite2020_inversions_jsrun.pdf', dpi=300, bbox_inches='tight')\n",
    "plt.savefig('figures/incite2020_inversions_jsrun.png', dpi=300, bbox_inches='tight')"
   ]
  },
  {
   "cell_type": "code",
   "execution_count": 14,
   "metadata": {
    "ExecuteTime": {
     "end_time": "2020-06-16T20:59:20.722867Z",
     "start_time": "2020-06-16T20:59:20.719538Z"
    }
   },
   "outputs": [
    {
     "name": "stdout",
     "output_type": "stream",
     "text": [
      "re.session.login3.litan.018427.0010 [100]\n",
      "    Pilot Startup       :    1842699.576     0.263%      ['boot', 'setup_1']\n",
      "    Pilot Termination   :          0.000     0.000%   !  ['term']\n",
      "    Agent Nodes         :          0.000     0.000%   !  ['agent']\n",
      "    Warmup              :       6567.797     0.001%      ['warm']\n",
      "    Draining            :     428439.705     0.061%      ['drain']\n",
      "    Idle                :  185215224.987    26.387%      ['idle']\n",
      "    Prepare Exec        :         83.850     0.000%      ['exec_queue', 'exec_prep']\n",
      "    Exec RP             :         18.906     0.000%      ['exec_rp', 'exec_sh', 'term_sh', 'term_rp']\n",
      "    Exec Cmd            :     402129.000     0.057%      ['exec_cmd']\n",
      "    Unschedule          :          5.227     0.000%      ['unschedule']\n",
      "    total               :  701906078.400   100.000%      \n",
      "\n",
      "    total               :  701906078.400   100.000%\n",
      "    over                :  187895169.048    26.769%\n",
      "    work                :          0.000     0.000%\n",
      "    miss                :  514010909.352    73.231%\n",
      "\n"
     ]
    }
   ],
   "source": [
    "for sid in suds:\n",
    "    print(info[sid])"
   ]
  },
  {
   "cell_type": "code",
   "execution_count": 15,
   "metadata": {
    "ExecuteTime": {
     "end_time": "2020-06-16T20:59:20.726459Z",
     "start_time": "2020-06-16T20:59:20.724737Z"
    }
   },
   "outputs": [],
   "source": [
    "# Ordered list of events for a unit. Used to rapid visual debug. Can be exported in csv.\n",
    "# for unit in u.filter(etype='unit', uid='unit.000000').timestamps():\n",
    "#     print(\", \".join(map(str, unit)))"
   ]
  },
  {
   "cell_type": "code",
   "execution_count": 16,
   "metadata": {
    "ExecuteTime": {
     "end_time": "2020-06-16T20:59:20.732696Z",
     "start_time": "2020-06-16T20:59:20.728206Z"
    }
   },
   "outputs": [],
   "source": [
    "\n",
    "u_load    = [{ru.EVENT: 'state'        , ru.STATE: rp.NEW }, \n",
    "             {ru.EVENT: 'cu_exec_start', ru.STATE: None   }]\n",
    "\n",
    "u_execute = [{ru.EVENT: 'cu_exec_start', ru.STATE: None   },      \n",
    "             {ru.EVENT: 'cu_exec_stop' , ru.STATE: None   }]\n",
    "\n",
    "u_unload  = [{ru.EVENT: 'cu_exec_stop' , ru.STATE: None   }, \n",
    "             {ru.EVENT: 'state'        , ru.STATE: rp.DONE}]"
   ]
  },
  {
   "cell_type": "code",
   "execution_count": 17,
   "metadata": {
    "ExecuteTime": {
     "end_time": "2020-06-16T20:59:20.774357Z",
     "start_time": "2020-06-16T20:59:20.734322Z"
    }
   },
   "outputs": [],
   "source": [
    "u_durations = {}\n",
    "for uid in ss['re.session.login3.litan.018427.0010']['u'].list('uid'):\n",
    "    unit = ss['re.session.login3.litan.018427.0010']['u'].get(etype='unit', uid=uid)[0]\n",
    "    load = unit.duration(event=u_load)\n",
    "    execute = unit.duration(event=u_execute)\n",
    "    unload = unit.duration(event=u_unload)\n",
    "    u_durations[uid] = {'load': load, 'execute': execute, 'unload': unload}"
   ]
  },
  {
   "cell_type": "code",
   "execution_count": 18,
   "metadata": {
    "ExecuteTime": {
     "end_time": "2020-06-16T20:59:20.794213Z",
     "start_time": "2020-06-16T20:59:20.776419Z"
    }
   },
   "outputs": [
    {
     "data": {
      "text/html": [
       "<div>\n",
       "<style scoped>\n",
       "    .dataframe tbody tr th:only-of-type {\n",
       "        vertical-align: middle;\n",
       "    }\n",
       "\n",
       "    .dataframe tbody tr th {\n",
       "        vertical-align: top;\n",
       "    }\n",
       "\n",
       "    .dataframe thead th {\n",
       "        text-align: right;\n",
       "    }\n",
       "</style>\n",
       "<table border=\"1\" class=\"dataframe\">\n",
       "  <thead>\n",
       "    <tr style=\"text-align: right;\">\n",
       "      <th></th>\n",
       "      <th>load</th>\n",
       "      <th>execute</th>\n",
       "      <th>unload</th>\n",
       "    </tr>\n",
       "  </thead>\n",
       "  <tbody>\n",
       "    <tr>\n",
       "      <th>unit.000000</th>\n",
       "      <td>12.571034</td>\n",
       "      <td>4094.0</td>\n",
       "      <td>1.932672</td>\n",
       "    </tr>\n",
       "    <tr>\n",
       "      <th>unit.000001</th>\n",
       "      <td>11.566995</td>\n",
       "      <td>488.0</td>\n",
       "      <td>3.054538</td>\n",
       "    </tr>\n",
       "    <tr>\n",
       "      <th>unit.000002</th>\n",
       "      <td>11.564004</td>\n",
       "      <td>739.0</td>\n",
       "      <td>2.621568</td>\n",
       "    </tr>\n",
       "    <tr>\n",
       "      <th>unit.000003</th>\n",
       "      <td>11.560280</td>\n",
       "      <td>246.0</td>\n",
       "      <td>2.694914</td>\n",
       "    </tr>\n",
       "    <tr>\n",
       "      <th>unit.000004</th>\n",
       "      <td>12.557537</td>\n",
       "      <td>4090.0</td>\n",
       "      <td>3.786185</td>\n",
       "    </tr>\n",
       "    <tr>\n",
       "      <th>...</th>\n",
       "      <td>...</td>\n",
       "      <td>...</td>\n",
       "      <td>...</td>\n",
       "    </tr>\n",
       "    <tr>\n",
       "      <th>unit.000095</th>\n",
       "      <td>12.241773</td>\n",
       "      <td>7438.0</td>\n",
       "      <td>1.107383</td>\n",
       "    </tr>\n",
       "    <tr>\n",
       "      <th>unit.000096</th>\n",
       "      <td>11.233977</td>\n",
       "      <td>3911.0</td>\n",
       "      <td>3.102330</td>\n",
       "    </tr>\n",
       "    <tr>\n",
       "      <th>unit.000097</th>\n",
       "      <td>11.226869</td>\n",
       "      <td>3670.0</td>\n",
       "      <td>2.348645</td>\n",
       "    </tr>\n",
       "    <tr>\n",
       "      <th>unit.000098</th>\n",
       "      <td>12.220680</td>\n",
       "      <td>7437.0</td>\n",
       "      <td>2.107383</td>\n",
       "    </tr>\n",
       "    <tr>\n",
       "      <th>unit.000099</th>\n",
       "      <td>12.213544</td>\n",
       "      <td>7854.0</td>\n",
       "      <td>2.545988</td>\n",
       "    </tr>\n",
       "  </tbody>\n",
       "</table>\n",
       "<p>100 rows × 3 columns</p>\n",
       "</div>"
      ],
      "text/plain": [
       "                  load  execute    unload\n",
       "unit.000000  12.571034   4094.0  1.932672\n",
       "unit.000001  11.566995    488.0  3.054538\n",
       "unit.000002  11.564004    739.0  2.621568\n",
       "unit.000003  11.560280    246.0  2.694914\n",
       "unit.000004  12.557537   4090.0  3.786185\n",
       "...                ...      ...       ...\n",
       "unit.000095  12.241773   7438.0  1.107383\n",
       "unit.000096  11.233977   3911.0  3.102330\n",
       "unit.000097  11.226869   3670.0  2.348645\n",
       "unit.000098  12.220680   7437.0  2.107383\n",
       "unit.000099  12.213544   7854.0  2.545988\n",
       "\n",
       "[100 rows x 3 columns]"
      ]
     },
     "execution_count": 18,
     "metadata": {},
     "output_type": "execute_result"
    }
   ],
   "source": [
    "u_durations_df = pd.DataFrame.from_dict(u_durations, orient='index')\n",
    "u_durations_df"
   ]
  },
  {
   "cell_type": "code",
   "execution_count": 23,
   "metadata": {
    "ExecuteTime": {
     "end_time": "2020-06-16T21:08:42.573026Z",
     "start_time": "2020-06-16T21:08:39.584254Z"
    }
   },
   "outputs": [
    {
     "data": {
      "text/plain": [
       "Text(0, 0.5, 'time (s)')"
      ]
     },
     "execution_count": 23,
     "metadata": {},
     "output_type": "execute_result"
    },
    {
     "data": {
      "image/png": "[encoded data removed]",
      "text/plain": [
       "<Figure size 432x432 with 1 Axes>"
      ]
     },
     "metadata": {},
     "output_type": "display_data"
    }
   ],
   "source": [
    "fig, ax  = fig_setup(figsize=(6,6))\n",
    "\n",
    "box = plt.boxplot([u_durations_df['load'].values, u_durations_df['unload'].values], patch_artist=True)\n",
    "\n",
    "colors = ['lightgreen', 'red']\n",
    "for patch, color in zip(box['boxes'], colors):\n",
    "    patch.set(facecolor=color)       \n",
    "\n",
    "    \n",
    "plt.legend(loc='upper right', bbox_to_anchor=(1.7,1), labels=['1: load', '2: unload'])\n",
    "plt.xlabel('durations')\n",
    "plt.ylabel('time (s)')\n",
    "\n",
    "# plt.savefig('figures/paper_titan_rp_profiler_overhead.pdf', dpi=300, bbox_inches='tight')"
   ]
  },
  {
   "cell_type": "code",
   "execution_count": null,
   "metadata": {},
   "outputs": [],
   "source": []
  }
 ],
 "metadata": {
  "hide_input": false,
  "kernelspec": {
   "display_name": "Python 3",
   "language": "python",
   "name": "python3"
  },
  "language_info": {
   "codemirror_mode": {
    "name": "ipython",
    "version": 3
   },
   "file_extension": ".py",
   "mimetype": "text/x-python",
   "name": "python",
   "nbconvert_exporter": "python",
   "pygments_lexer": "ipython3",
   "version": "3.7.6"
  },
  "varInspector": {
   "cols": {
    "lenName": 16,
    "lenType": 16,
    "lenVar": 40
   },
   "kernels_config": {
    "python": {
     "delete_cmd_postfix": "",
     "delete_cmd_prefix": "del ",
     "library": "var_list.py",
     "varRefreshCmd": "print(var_dic_list())"
    },
    "r": {
     "delete_cmd_postfix": ") ",
     "delete_cmd_prefix": "rm(",
     "library": "var_list.r",
     "varRefreshCmd": "cat(var_dic_list()) "
    }
   },
   "types_to_exclude": [
    "module",
    "function",
    "builtin_function_or_method",
    "instance",
    "_Feature"
   ],
   "window_display": false
  }
 },
 "nbformat": 4,
 "nbformat_minor": 4
}
